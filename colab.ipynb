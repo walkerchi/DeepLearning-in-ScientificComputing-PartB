{
 "cells": [
  {
   "cell_type": "code",
   "execution_count": null,
   "metadata": {},
   "outputs": [],
   "source": [
    "from google.colab import drive \n",
    "drive.mount('/content/drive')\n",
    "!git clone -b spatial-varying https://github.com/walkerchi/DeepLearning-in-ScientificComputing-PartB.git\n",
    "!pip install ninja\n",
    "%cd DeepLearning-in-ScientificComputing-PartB/\n",
    "\n",
    "from run_folder import run_folder\n",
    "from gen_config import gen_config\n",
    "from run_plot import run_plot\n",
    "gen_config(batch_size=256)\n",
    "run_folder(\"config/train/\")\n",
    "run_plot()\n",
    "\n",
    "google.colab import files\n",
    "import shutil\n",
    "shutil.make_archive(\"images\", 'zip', \"images\")\n",
    "shutil.make_archive(\"weights\", 'zip', \"weights\")\n",
    "shutil.make_archive(\"tables\", 'zip', \"tables\")\n",
    "files.download(\"images.zip\")\n",
    "files.download(\"weights.zip\")\n",
    "files.download(\"tables.zip\")"
   ]
  }
 ],
 "metadata": {
  "language_info": {
   "name": "python"
  },
  "orig_nbformat": 4
 },
 "nbformat": 4,
 "nbformat_minor": 2
}
